{
 "cells": [
  {
   "cell_type": "markdown",
   "id": "4fedb765-eee9-4bd0-b842-2fe31002ca8b",
   "metadata": {},
   "source": [
    "# Top Interview 150\n",
    "\n",
    "<li><a href=\"#Merge_Sorted_Array\">Merge_Sorted_Array</a></li>\n",
    "<li><a href=\"#Remove_Element\">Remove_Element</a></li>\n",
    "<li><a href=\"#Remove_Duplicates_from_Sorted_Array_Easy\">Remove_Duplicates_from_Sorted_Array_Easy</a></li>\n",
    "<li><a href=\"#Remove_Duplicates_from_Sorted_Array_II\">Remove_Duplicates_from_Sorted_Array_II</a></li>\n",
    "<li><a href=\"#Majority_Element\">Majority_Element</a></li>\n",
    "<li><a href=\"#Rotate_Array\">Rotate_Array</a></li>\n",
    "<li><a href=\"#Best_Time_to_Buy_and_Sell_Stock\">Best_Time_to_Buy_and_Sell_Stock</a></li>\n",
    "<li><a href=\"#Best_Time_to_Buy_and_Sell_Stock_II\">Best_Time_to_Buy_and_Sell_Stock_II</a></li>\n",
    "<li><a href=\"#Jump_Game\">Jump_Game</a></li>\n",
    "<li><a href=\"#Jump_Game_II\">Jump_Game_II</a></li>\n",
    "<li><a href=\"#Write_Here\">Write_Here</a></li>\n",
    "<li><a href=\"#Write_Here\">Write_Here</a></li>\n",
    "<li><a href=\"#Write_Here\">Write_Here</a></li>\n",
    "<li><a href=\"#Write_Here\">Write_Here</a></li>\n",
    "<li><a href=\"#Write_Here\">Write_Here</a></li>\n",
    "<li><a href=\"#Write_Here\">Write_Here</a></li>\n",
    "<li><a href=\"#Write_Here\">Write_Here</a></li>\n",
    "<li><a href=\"#Write_Here\">Write_Here</a></li>"
   ]
  },
  {
   "cell_type": "code",
   "execution_count": 1,
   "id": "3d8c49df-db22-4883-af42-e53c1b779e4b",
   "metadata": {},
   "outputs": [
    {
     "name": "stdin",
     "output_type": "stream",
     "text": [
      " 45. Jump Game II\n"
     ]
    },
    {
     "data": {
      "text/plain": [
       "'45._Jump_Game_II'"
      ]
     },
     "execution_count": 1,
     "metadata": {},
     "output_type": "execute_result"
    }
   ],
   "source": [
    "problem = input()\n",
    "problem.replace(' ', '_')"
   ]
  },
  {
   "cell_type": "markdown",
   "id": "ba6765b9-a828-44b8-8ca9-ba2c354a90fe",
   "metadata": {},
   "source": [
    "<a id='Merge_Sorted_Array'></a>\n",
    "### Merge_Sorted_Array"
   ]
  },
  {
   "cell_type": "code",
   "execution_count": 13,
   "id": "bbe962bb-3030-4034-9dff-e99df3e5bf29",
   "metadata": {},
   "outputs": [],
   "source": [
    "def merge(nums1, m: int, nums2, n: int) -> None:\n",
    "    idx1 = 0\n",
    "    idx2 = 0\n",
    "    sorted_arr = []\n",
    "    while idx1 < m and idx2 < n:\n",
    "        if nums1[idx1] < nums2[idx2]:\n",
    "            sorted_arr.append(nums1[idx1])\n",
    "            idx1 += 1\n",
    "        else:\n",
    "            sorted_arr.append(nums2[idx2])\n",
    "            idx2 += 1\n",
    "\n",
    "    \n",
    "    while idx2 < n:\n",
    "        sorted_arr.append(nums2[idx2])\n",
    "        idx2 += 1\n",
    "    \n",
    "    while idx1 < m:\n",
    "        sorted_arr.append(nums1[idx1])\n",
    "        idx1 += 1\n",
    "\n",
    "    for idx in range(len(nums1)):\n",
    "        nums1[idx] = sorted_arr[idx]"
   ]
  },
  {
   "cell_type": "code",
   "execution_count": 14,
   "id": "f8d09653-27e3-4eea-8b38-decc7edc9406",
   "metadata": {},
   "outputs": [
    {
     "data": {
      "text/plain": [
       "[1, 2, 2, 3, 5, 6]"
      ]
     },
     "execution_count": 14,
     "metadata": {},
     "output_type": "execute_result"
    }
   ],
   "source": [
    "nums1 = [1,2,3,0,0,0]\n",
    "m = 3\n",
    "nums2 = [2,5,6]\n",
    "n = 3\n",
    "\n",
    "merge(nums1, m, nums2, n)\n",
    "nums1"
   ]
  },
  {
   "cell_type": "markdown",
   "id": "9ae27ba4-0b78-4bd0-9828-a09bd4028df5",
   "metadata": {},
   "source": [
    "#### Another Solution"
   ]
  },
  {
   "cell_type": "code",
   "execution_count": 17,
   "id": "e2f75c75-218d-45ba-8c4b-a9ab08c8b929",
   "metadata": {},
   "outputs": [],
   "source": [
    "def merge(nums1, m: int, nums2, n: int) -> None:\n",
    "    idx1 = m - 1\n",
    "    idx2 = n - 1\n",
    "    next_biggest = m + n - 1\n",
    "    while idx2 >= 0:\n",
    "        if idx1 >= 0 and nums1[idx1] > nums2[idx2]:\n",
    "            nums1[next_biggest] = nums1[idx1]\n",
    "            idx1 -= 1\n",
    "        else:\n",
    "            nums1[next_biggest] = nums2[idx2]\n",
    "            idx2 -= 1\n",
    "\n",
    "        next_biggest -= 1"
   ]
  },
  {
   "cell_type": "code",
   "execution_count": 18,
   "id": "bdc6b1ce-8935-4f61-a376-ad6e64d85be5",
   "metadata": {},
   "outputs": [
    {
     "data": {
      "text/plain": [
       "[1, 2, 2, 3, 5, 6]"
      ]
     },
     "execution_count": 18,
     "metadata": {},
     "output_type": "execute_result"
    }
   ],
   "source": [
    "nums1 = [1,2,3,0,0,0]\n",
    "m = 3\n",
    "nums2 = [2,5,6]\n",
    "n = 3\n",
    "\n",
    "merge(nums1, m, nums2, n)\n",
    "nums1"
   ]
  },
  {
   "cell_type": "markdown",
   "id": "9af4be72-be50-4f9b-acf2-e107dae61d1a",
   "metadata": {},
   "source": [
    "<a id='Remove_Element'></a>\n",
    "### Remove_Element"
   ]
  },
  {
   "cell_type": "code",
   "execution_count": 68,
   "id": "352f0a9a-9a76-4c5a-a020-5df7c24ac0a9",
   "metadata": {},
   "outputs": [],
   "source": [
    "def removeElement(nums, val: int) -> int:\n",
    "    index = 0\n",
    "    for i in range(len(nums)):\n",
    "        if nums[i] != val:\n",
    "            nums[index] = nums[i]\n",
    "            index += 1\n",
    "\n",
    "    return index"
   ]
  },
  {
   "cell_type": "code",
   "execution_count": 69,
   "id": "bd846477-6ea6-4800-beea-731facb20bcc",
   "metadata": {},
   "outputs": [
    {
     "data": {
      "text/plain": [
       "1"
      ]
     },
     "execution_count": 69,
     "metadata": {},
     "output_type": "execute_result"
    }
   ],
   "source": [
    "nums = [4, 5]\n",
    "\n",
    "#nums = [2]\n",
    "removeElement(nums, 4)"
   ]
  },
  {
   "cell_type": "markdown",
   "id": "9939f3e2-5302-4dce-a4d0-22a841bc4cee",
   "metadata": {},
   "source": [
    "<a id='Remove_Duplicates_from_Sorted_Array_Easy'></a>\n",
    "### Remove_Duplicates_from_Sorted_Array_Easy"
   ]
  },
  {
   "cell_type": "code",
   "execution_count": 22,
   "id": "60dfe61c-4ca9-4129-b30a-8f4cf28676ff",
   "metadata": {},
   "outputs": [],
   "source": [
    "def removeDuplicates(nums) -> int:\n",
    "    unique_arr = []\n",
    "    k = 0\n",
    "    for num in nums:\n",
    "        if num not in unique_arr:\n",
    "            unique_arr.append(num)\n",
    "            k += 1\n",
    "    \n",
    "    for i in range(k):\n",
    "        nums[i] = unique_arr[i]\n",
    "        \n",
    "    return k"
   ]
  },
  {
   "cell_type": "code",
   "execution_count": 25,
   "id": "000ec5fb-d461-48d1-a383-9daa52899686",
   "metadata": {},
   "outputs": [
    {
     "data": {
      "text/plain": [
       "2"
      ]
     },
     "execution_count": 25,
     "metadata": {},
     "output_type": "execute_result"
    }
   ],
   "source": [
    "arr = [1, 1, 2]\n",
    "removeDuplicates(arr)"
   ]
  },
  {
   "cell_type": "code",
   "execution_count": 29,
   "id": "ef185ab5-ea09-492b-ae92-dd26cc4e77cd",
   "metadata": {},
   "outputs": [],
   "source": [
    "def removeDuplicates(nums) -> int:\n",
    "    j = 1\n",
    "    for i in range(1, len(nums)):\n",
    "        if nums[i] != nums[j-1]:\n",
    "            nums[j] = nums[i]\n",
    "            j += 1\n",
    "\n",
    "    return j\n",
    "\n"
   ]
  },
  {
   "cell_type": "code",
   "execution_count": 30,
   "id": "361b53b5-2a79-4211-b397-838bb8f29de5",
   "metadata": {},
   "outputs": [
    {
     "data": {
      "text/plain": [
       "2"
      ]
     },
     "execution_count": 30,
     "metadata": {},
     "output_type": "execute_result"
    }
   ],
   "source": [
    "arr = [1, 1, 2]\n",
    "removeDuplicates(arr)"
   ]
  },
  {
   "cell_type": "markdown",
   "id": "4905cabe-8101-4b68-b7ab-54f8301bbe90",
   "metadata": {},
   "source": [
    "<a id='Remove_Duplicates_from_Sorted_Array_II'></a>\n",
    "### Remove_Duplicates_from_Sorted_Array_II"
   ]
  },
  {
   "cell_type": "code",
   "execution_count": 18,
   "id": "6f360642-1e97-4a10-b01d-332274d03b56",
   "metadata": {},
   "outputs": [],
   "source": [
    "def removeDuplicates(nums) -> int:\n",
    "    arr_size = len(nums)\n",
    "    if arr_size > 2:\n",
    "        j = 2\n",
    "        for i in range(2, arr_size):\n",
    "            if nums[j-2] != nums[i]:\n",
    "                nums[j] = nums[i]\n",
    "                j += 1\n",
    "\n",
    "        arr_size = j\n",
    "    return arr_size"
   ]
  },
  {
   "cell_type": "code",
   "execution_count": 19,
   "id": "2e162eb8-c641-496d-83a9-f71672f0d550",
   "metadata": {},
   "outputs": [
    {
     "name": "stdout",
     "output_type": "stream",
     "text": [
      "[0, 0, 1, 1, 2, 3, 3, 3, 3]\n"
     ]
    },
    {
     "data": {
      "text/plain": [
       "7"
      ]
     },
     "execution_count": 19,
     "metadata": {},
     "output_type": "execute_result"
    }
   ],
   "source": [
    "nums = [0, 0, 1, 1, 1, 1, 2, 3, 3]\n",
    "removeDuplicates(nums)"
   ]
  },
  {
   "cell_type": "markdown",
   "id": "aca06f2e-027b-469c-b75c-bc87fb1ec898",
   "metadata": {},
   "source": [
    "<a id='Majority_Element'></a>\n",
    "### Majority_Element"
   ]
  },
  {
   "cell_type": "code",
   "execution_count": 12,
   "id": "4615f9d7-79dc-44e5-be7a-54e56079e574",
   "metadata": {},
   "outputs": [],
   "source": [
    "def majorityElement(nums) -> int:\n",
    "    nums_count = {}\n",
    "    for num in nums:\n",
    "        nums_count[num] = nums_count.get(num, 0) + 1\n",
    "\n",
    "    \n",
    "    return list(filter(lambda key:nums_count[key] > (len(nums) / 2), nums_count))[0]\n"
   ]
  },
  {
   "cell_type": "code",
   "execution_count": 16,
   "id": "c8f03adf-bd2e-4412-b655-9820f245b656",
   "metadata": {},
   "outputs": [],
   "source": [
    "# better solution\n",
    "def majorityElement(nums) -> int:\n",
    "    nums_count = {}\n",
    "    for num in nums:\n",
    "        nums_count[num] = nums_count.get(num, 0) + 1\n",
    "    return sorted(nums_count, key=lambda key:nums_count[key])[-1]\n"
   ]
  },
  {
   "cell_type": "code",
   "execution_count": 32,
   "id": "d5554adc-4d22-4a38-88ff-a3b6997f78eb",
   "metadata": {},
   "outputs": [],
   "source": [
    "# Moore Voting Algorithm\n",
    "def majorityElement(nums) -> int:\n",
    "    num_vote = 0\n",
    "    candidate = 0\n",
    "    for num in nums:\n",
    "        if num_vote == 0:\n",
    "            candidate = num\n",
    "            \n",
    "        if candidate == num:\n",
    "            num_vote += 1\n",
    "        else:\n",
    "            num_vote -= 1\n",
    "            \n",
    "    return candidate"
   ]
  },
  {
   "cell_type": "code",
   "execution_count": 34,
   "id": "a707bba4-770c-44d6-ba5f-46a733349b1d",
   "metadata": {},
   "outputs": [
    {
     "data": {
      "text/plain": [
       "2"
      ]
     },
     "execution_count": 34,
     "metadata": {},
     "output_type": "execute_result"
    }
   ],
   "source": [
    "nums = [2,2,1,1,1,2,2]\n",
    "#nums = [3, 2, 3]\n",
    "majorityElement(nums)"
   ]
  },
  {
   "cell_type": "markdown",
   "id": "0e79d3d6-92d2-413c-990f-1a6b8a158efc",
   "metadata": {},
   "source": [
    "<a id='Rotate_Array'></a>\n",
    "### Rotate_Array"
   ]
  },
  {
   "cell_type": "code",
   "execution_count": 64,
   "id": "702763e7-07c1-4dcd-850d-490ca7edba54",
   "metadata": {},
   "outputs": [],
   "source": [
    "def rotate(nums, k: int) -> None:\n",
    "    \"\"\"\n",
    "    Do not return anything, modify nums in-place instead.\n",
    "    \"\"\"\n",
    "    arr_size = len(nums)\n",
    "    # If k = len(nums), we get the same array, so we use k % len(nums)\n",
    "    # This ensures that if k is greater than the size of the array, we only rotate by the remainder.\n",
    "    k = k % arr_size\n",
    "    ans = nums[-k:] + nums[:-k]\n",
    "    for i in range(len(nums)):\n",
    "        nums[i] = ans[i]"
   ]
  },
  {
   "cell_type": "code",
   "execution_count": 69,
   "id": "44ab4b25-42c8-4ec7-ae3a-45952fe8db1a",
   "metadata": {},
   "outputs": [
    {
     "data": {
      "text/plain": [
       "[5, 6, 7, 1, 2, 3, 4]"
      ]
     },
     "execution_count": 69,
     "metadata": {},
     "output_type": "execute_result"
    }
   ],
   "source": [
    "nums = [1,2,3,4,5,6,7]\n",
    "#nums = [-1,-100,3,99]\n",
    "#nums = [1, 2]\n",
    "k=3\n",
    "rotate(nums, k)\n",
    "nums"
   ]
  },
  {
   "cell_type": "markdown",
   "id": "7bbeceb7-a68d-48ba-a04c-0235f32c0221",
   "metadata": {},
   "source": [
    "<a id='Best_Time_to_Buy_and_Sell_Stock'></a>\n",
    "### Best_Time_to_Buy_and_Sell_Stock"
   ]
  },
  {
   "cell_type": "code",
   "execution_count": 21,
   "id": "f1f415e9-7c16-432d-8ffa-7741cd177320",
   "metadata": {},
   "outputs": [],
   "source": [
    "def maxProfit(prices) -> int:\n",
    "    max_profit = 0\n",
    "    buy_price = prices[0]\n",
    "    for sell_price in prices[1:]:\n",
    "        if sell_price < buy_price:\n",
    "            buy_price = sell_price\n",
    "\n",
    "        max_profit = max(max_profit, sell_price - buy_price)\n",
    "    return max_profit"
   ]
  },
  {
   "cell_type": "code",
   "execution_count": 23,
   "id": "a647fa1b-5f6a-466d-bbac-b16d6b6fad55",
   "metadata": {},
   "outputs": [
    {
     "data": {
      "text/plain": [
       "5"
      ]
     },
     "execution_count": 23,
     "metadata": {},
     "output_type": "execute_result"
    }
   ],
   "source": [
    "prices = [7,1,5,3,6,4]\n",
    "#prices = [7,6,4,3,1]\n",
    "#prices = [7, 3, 10, 1, 6, 4]\n",
    "maxProfit(prices)"
   ]
  },
  {
   "cell_type": "markdown",
   "id": "370a158c-03a2-48d3-9160-aa124d514994",
   "metadata": {},
   "source": [
    "<a id='Best_Time_to_Buy_and_Sell_Stock_II'></a>\n",
    "### Best_Time_to_Buy_and_Sell_Stock_II"
   ]
  },
  {
   "cell_type": "code",
   "execution_count": 5,
   "id": "06a58e5f-7d45-4048-a690-94c05e97f2c6",
   "metadata": {},
   "outputs": [],
   "source": [
    "def maxProfit(prices) -> int:\n",
    "    max_profit = 0\n",
    "    buy_price = prices[0]\n",
    "    for price in prices[1:]:\n",
    "        if price > buy_price:\n",
    "            max_profit += (price - buy_price)\n",
    "\n",
    "        buy_price = price\n",
    "    return max_profit"
   ]
  },
  {
   "cell_type": "code",
   "execution_count": 21,
   "id": "5c67330d-54f9-4b81-b164-4f2c109e5b69",
   "metadata": {},
   "outputs": [],
   "source": [
    "def maxProfit(prices) -> int:\n",
    "    max_profit = 0\n",
    "    for i in range(1, len(prices)):\n",
    "        max_profit += max(0, prices[i] - prices[i-1])\n",
    "    return max_profit"
   ]
  },
  {
   "cell_type": "code",
   "execution_count": 27,
   "id": "fce0a236-e8a9-4fec-a3d4-4670ad9a1d48",
   "metadata": {},
   "outputs": [
    {
     "data": {
      "text/plain": [
       "7"
      ]
     },
     "execution_count": 27,
     "metadata": {},
     "output_type": "execute_result"
    }
   ],
   "source": [
    "prices = [7,1,5,3,6,4]\n",
    "#prices = [1,2,3,4,5]\n",
    "#prices = [7,6,4,3,1]\n",
    "maxProfit(prices)"
   ]
  },
  {
   "cell_type": "markdown",
   "id": "fe7caa78-277b-4483-b046-5626e5ecce3f",
   "metadata": {},
   "source": [
    "<a id='Jump_Game'></a>\n",
    "### Jump_Game"
   ]
  },
  {
   "cell_type": "code",
   "execution_count": 39,
   "id": "942172da-473d-49af-ab5e-9a7a57c37b75",
   "metadata": {},
   "outputs": [],
   "source": [
    "def canJump(nums) -> bool:\n",
    "    size = len(nums)\n",
    "    goal = size - 1\n",
    "    for i in range(size - 2, -1, -1):\n",
    "        if i + nums[i] >= goal:\n",
    "            goal = i\n",
    "\n",
    "    return True if goal == 0 else False"
   ]
  },
  {
   "cell_type": "code",
   "execution_count": 41,
   "id": "69342119-465b-4cec-8c5a-b2894c1ccb97",
   "metadata": {},
   "outputs": [
    {
     "data": {
      "text/plain": [
       "True"
      ]
     },
     "execution_count": 41,
     "metadata": {},
     "output_type": "execute_result"
    }
   ],
   "source": [
    "nums = [2,0,5,1,4]\n",
    "canJump(nums)"
   ]
  },
  {
   "cell_type": "markdown",
   "id": "d59efa57-8078-4887-a28b-88e1c8b86407",
   "metadata": {},
   "source": [
    "<a id='Jump_Game_II'></a>\n",
    "### Jump_Game_II"
   ]
  },
  {
   "cell_type": "code",
   "execution_count": 15,
   "id": "0541d8f9-05b4-4e4a-9adc-141e196ad4e2",
   "metadata": {},
   "outputs": [],
   "source": [
    "def jump(nums: list[int]) -> int:\n",
    "    min_jumps = far = end = 0\n",
    "    n = len(nums) - 1\n",
    "    for i in range(n):\n",
    "        far = max(far, i + nums[i])\n",
    "        if far >= n:\n",
    "            min_jumps += 1\n",
    "            break\n",
    "        if i == end:\n",
    "            min_jumps += 1\n",
    "            end = far\n",
    "    return min_jumps"
   ]
  },
  {
   "cell_type": "code",
   "execution_count": 17,
   "id": "f4313bbc-81d8-4251-8b48-e5d865318127",
   "metadata": {},
   "outputs": [
    {
     "data": {
      "text/plain": [
       "2"
      ]
     },
     "execution_count": 17,
     "metadata": {},
     "output_type": "execute_result"
    }
   ],
   "source": [
    "jump([2,3,0,1,4])"
   ]
  },
  {
   "cell_type": "code",
   "execution_count": null,
   "id": "16783973-0ac2-4430-9093-9db32048679a",
   "metadata": {},
   "outputs": [],
   "source": []
  },
  {
   "cell_type": "code",
   "execution_count": null,
   "id": "3e1443b4-d27d-4266-8981-25a44802cc4e",
   "metadata": {},
   "outputs": [],
   "source": [
    "<a id='Refer_to'></a>\n",
    "### Refer_to"
   ]
  },
  {
   "cell_type": "code",
   "execution_count": null,
   "id": "725aecfb-a5ec-4636-8ec3-09ca458ed0fe",
   "metadata": {},
   "outputs": [],
   "source": [
    "<a id='Refer_to'></a>\n",
    "### Refer_to"
   ]
  },
  {
   "cell_type": "code",
   "execution_count": null,
   "id": "debc6f9f-9a1f-4196-acbb-4bbc0323d2f6",
   "metadata": {},
   "outputs": [],
   "source": [
    "<a id='Refer_to'></a>\n",
    "### Refer_to"
   ]
  },
  {
   "cell_type": "code",
   "execution_count": null,
   "id": "32c9efa2-26d2-4ca1-ad46-8c13f5be7511",
   "metadata": {},
   "outputs": [],
   "source": [
    "<a id='Refer_to'></a>\n",
    "### Refer_to"
   ]
  },
  {
   "cell_type": "code",
   "execution_count": null,
   "id": "3bff2d82-f488-4672-805a-2d9ad8b7d3f6",
   "metadata": {},
   "outputs": [],
   "source": [
    "<a id='Refer_to'></a>\n",
    "### Refer_to"
   ]
  },
  {
   "cell_type": "code",
   "execution_count": null,
   "id": "cc0f807d-6343-4231-9146-ad1f55eec202",
   "metadata": {},
   "outputs": [],
   "source": [
    "<a id='Refer_to'></a>\n",
    "### Refer_to"
   ]
  },
  {
   "cell_type": "code",
   "execution_count": null,
   "id": "559a1c0c-7393-4473-997e-1c3cc4b95930",
   "metadata": {},
   "outputs": [],
   "source": [
    "<a id='Refer_to'></a>\n",
    "### Refer_to"
   ]
  }
 ],
 "metadata": {
  "kernelspec": {
   "display_name": "Python 3 (ipykernel)",
   "language": "python",
   "name": "python3"
  },
  "language_info": {
   "codemirror_mode": {
    "name": "ipython",
    "version": 3
   },
   "file_extension": ".py",
   "mimetype": "text/x-python",
   "name": "python",
   "nbconvert_exporter": "python",
   "pygments_lexer": "ipython3",
   "version": "3.12.7"
  }
 },
 "nbformat": 4,
 "nbformat_minor": 5
}
